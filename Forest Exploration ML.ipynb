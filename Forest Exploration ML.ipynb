{
 "cells": [
  {
   "cell_type": "code",
   "execution_count": null,
   "id": "0a51fa48",
   "metadata": {},
   "outputs": [],
   "source": [
    "import numpy as np\n",
    "import pandas as pd\n",
    "import sklearn\n",
    "import tensorflow as tf\n",
    "import matplotlib.pyplot as plt\n",
    "from sklearn.preprocessing import StandardScaler\n",
    "from sklearn.model_selection import train_test_split\n",
    "from sklearn.metrics import classification_report, confusion_matrix\n",
    "from tensorflow.keras.callbacks import EarlyStopping\n",
    "import seaborn as sns\n",
    "\n"
   ]
  },
  {
   "cell_type": "code",
   "execution_count": null,
   "id": "83a34f52",
   "metadata": {
    "scrolled": true
   },
   "outputs": [],
   "source": [
    "from sklearn.model_selection import train_test_split\n",
    "from sklearn.preprocessing import StandardScaler\n",
    "data = pd.read_csv('/Users/suhaan/Downloads/dlsp-portfolio-starter-code/cover_data.csv')\n",
    "\n",
    "\n",
    "labels = data.iloc[:,-1]\n",
    "features = data.iloc[:, : -1]\n",
    "\n",
    "normalizer = StandardScaler()\n",
    "features = normalizer.fit_transform(features)\n",
    "labels = pd.get_dummies(labels)\n",
    "\n",
    "features_train, features_test, labels_train, labels_test = train_test_split(features, labels, test_size = 0.1, random_state = 12)"
   ]
  },
  {
   "cell_type": "code",
   "execution_count": null,
   "id": "e0ebdaa6",
   "metadata": {
    "scrolled": false
   },
   "outputs": [],
   "source": [
    "num = features.shape[1]\n",
    "model = tf.keras.Sequential()\n",
    "model.add(tf.keras.layers.Dense(num, activation = 'relu'))\n",
    "model.add(tf.keras.layers.Dense(64, activation = 'relu'))\n",
    "model.add(tf.keras.layers.Dense(7, activation = 'softmax'))\n",
    "\n",
    "model.compile(loss = tf.keras.losses.CategoricalCrossentropy(), \n",
    "              optimizer = tf.keras.optimizers.legacy.Adam(learning_rate = 0.001),\n",
    "              metrics = [tf.keras.metrics.CategoricalCrossentropy()]\n",
    "             )\n",
    "\n",
    "early_stopping = EarlyStopping(monitor='val_loss', patience=3, min_delta = 0.004)\n",
    "Fitted = model.fit(features_train, labels_train, epochs = 20, validation_data=(features_test, labels_test), \n",
    "          callbacks=[early_stopping])\n",
    "\n",
    "plot_Fitted(Fitted, 'acc')\n",
    "    plot_Fitted(Fitted, 'loss')\n",
    "\n",
    "\n",
    "\n",
    "score = model.evaluate(features_test, labels_test, verbose=0)\n",
    "print(f'Test loss: {score[0]}')\n",
    "print(f'Test accuracy: {score[1]}')\n",
    "\n",
    "\n",
    "label_predict = model.predict(features_test)\n",
    "\n",
    "\n",
    "y_pred = np.argmax(label_predict, axis=1)\n",
    "y_true = np.argmax(labels_test.values, axis=1)\n",
    "\n",
    "class_names = ['Spruce/Fir', 'Lodgepole Pine',\n",
    "               'Ponderosa Pine', 'Cottonwood/Willow',\n",
    "               'Aspen', 'Douglas-fir', 'Krummholz']\n",
    "\n",
    "print(classification_report(y_true, y_pred, target_names=class_names))\n",
    "\n",
    "\n",
    "def plot_heatmap(class_names, y_true, y_pred):\n",
    "    cm = confusion_matrix(y_true, y_pred)\n",
    "    fig, ax = plt.subplots(figsize=(15, 15))\n",
    "    heatmap = sns.heatmap(cm, fmt='g', cmap='Blues', annot=True, ax=ax)\n",
    "    ax.set_xlabel('Predicted class')\n",
    "    ax.set_ylabel('True class')\n",
    "    ax.set_title('Confusion Matrix')\n",
    "    ax.xaxis.set_ticklabels(class_names)\n",
    "    ax.yaxis.set_ticklabels(class_names)\n",
    "    plt.show()\n",
    "\n",
    "plot_heatmap(class_names, y_true, y_pred)"
   ]
  },
  {
   "cell_type": "code",
   "execution_count": null,
   "id": "d34fd4d1",
   "metadata": {},
   "outputs": [],
   "source": []
  },
  {
   "cell_type": "code",
   "execution_count": null,
   "id": "44cd6cbd",
   "metadata": {},
   "outputs": [],
   "source": []
  },
  {
   "cell_type": "code",
   "execution_count": null,
   "id": "29ade18e",
   "metadata": {},
   "outputs": [],
   "source": []
  }
 ],
 "metadata": {
  "kernelspec": {
   "display_name": "Python 3 (ipykernel)",
   "language": "python",
   "name": "python3"
  },
  "language_info": {
   "codemirror_mode": {
    "name": "ipython",
    "version": 3
   },
   "file_extension": ".py",
   "mimetype": "text/x-python",
   "name": "python",
   "nbconvert_exporter": "python",
   "pygments_lexer": "ipython3",
   "version": "3.8.17"
  }
 },
 "nbformat": 4,
 "nbformat_minor": 5
}
